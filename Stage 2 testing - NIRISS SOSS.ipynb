{
 "cells": [
  {
   "cell_type": "markdown",
   "metadata": {},
   "source": [
    "## JWST Pipeline Validation Testing Notebook: NIRISS/SOSS Time Series Observation, pt. 2\n",
    "**Instruments affected**: NIRISS\n",
    "\n",
    "### Table of Contents\n",
    "1. [Imports](#Imports_ID)\n",
    "\n",
    "2. [Introduction](#intro)\n",
    "\n",
    "3. [The `assign_wcs` step](#assign_wcs)\n",
    "\n",
    "### <a id=#Imports_ID>Imports</a>\n",
    "\n",
    "Here are the lirbaries being imported here and why:\n",
    "\n",
    "- `numpy` for numerical calculations.\n",
    "- `matplotlib.pyplot` for plots.\n",
    "- `astropy.io.fits` for importing fits files.\n",
    "- `jwst.pipeline.calwebb_spec2` for using the CalWebb Spec 2 stage."
   ]
  },
  {
   "cell_type": "code",
   "execution_count": 1,
   "metadata": {},
   "outputs": [],
   "source": [
    "import numpy as np\n",
    "import matplotlib.pyplot as plt\n",
    "import os\n",
    "\n",
    "from astropy.io import fits\n",
    "from jwst.pipeline import calwebb_spec2\n",
    "from jwst import datamodels"
   ]
  },
  {
   "cell_type": "markdown",
   "metadata": {},
   "source": [
    "Version of the pipeline we are testing:"
   ]
  },
  {
   "cell_type": "code",
   "execution_count": 2,
   "metadata": {},
   "outputs": [
    {
     "name": "stdout",
     "output_type": "stream",
     "text": [
      "0.16.1\n"
     ]
    }
   ],
   "source": [
    "import jwst\n",
    "print(jwst.__version__)"
   ]
  },
  {
   "cell_type": "markdown",
   "metadata": {},
   "source": [
    "## <a id='intro'> Introduction </a>\n",
    "\n",
    "In this notebook we'll be testing that the Stage 2 of the CalWebb Spec pipeline works as intended as a whole. We'll stop after every step to quickly check that the results make sense. The whole set of steps ran by TSOs by this first Stage of the CalWebb Pipeline can be found [<a href=\"https://jwst-pipeline.readthedocs.io/en/latest/jwst/pipeline/calwebb_spec2.html#calwebb-spec2\">here</a>]. In what follows, we'll have one section associated to each step, calibrating the data sequentially and exploring the outputs accordingly.\n",
    "\n",
    "## <a id='groupscale'> The `assign_wcs` step </a>\n",
    "\n",
    "We first test and validate the `assign_wcs` step. This step simply associates a WCS object with the whole science exposure. Let's add this to the rateint products:"
   ]
  },
  {
   "cell_type": "code",
   "execution_count": 4,
   "metadata": {},
   "outputs": [
    {
     "name": "stderr",
     "output_type": "stream",
     "text": [
      "2020-07-30 00:12:39,299 - CRDS - ERROR -  Error determining best reference for 'pars-assignwcsstep'  =   Unknown reference type 'pars-assignwcsstep'\n",
      "2020-07-30 00:12:39,301 - stpipe.AssignWcsStep - INFO - AssignWcsStep instance created.\n",
      "2020-07-30 00:12:39,587 - stpipe.AssignWcsStep - INFO - Step AssignWcsStep running with args ('output/data_k2-141_superbiasstep_corrected_1_rampfitstep.fits',).\n",
      "2020-07-30 00:12:39,588 - stpipe.AssignWcsStep - INFO - Step AssignWcsStep parameters are: {'pre_hooks': [], 'post_hooks': [], 'output_file': None, 'output_dir': 'output', 'output_ext': '.fits', 'output_use_model': False, 'output_use_index': True, 'save_results': True, 'skip': False, 'suffix': None, 'search_output_file': True, 'input_dir': '', 'slit_y_low': -0.55, 'slit_y_high': 0.55}\n",
      "2020-07-30 00:13:29,914 - stpipe.AssignWcsStep - INFO - COMPLETED assign_wcs\n",
      "2020-07-30 00:13:40,186 - stpipe.AssignWcsStep - INFO - Saved model in output/data_k2-141_superbiasstep_corrected_1_assignwcsstep.fits\n",
      "2020-07-30 00:13:40,187 - stpipe.AssignWcsStep - INFO - Step AssignWcsStep done\n"
     ]
    },
    {
     "data": {
      "text/plain": [
       "<CubeModel(308, 256, 2048) from data_k2-141_superbiasstep_corrected_1_assignwcsstep.fits>"
      ]
     },
     "execution_count": 4,
     "metadata": {},
     "output_type": "execute_result"
    }
   ],
   "source": [
    "calwebb_spec2.assign_wcs_step.AssignWcsStep.call('output/data_k2-141_superbiasstep_corrected_1_rampfitstep.fits', output_dir='output',save_results=True)"
   ]
  },
  {
   "cell_type": "markdown",
   "metadata": {},
   "source": [
    "All right! Let's check that the WCS information is on the headers now:"
   ]
  },
  {
   "cell_type": "code",
   "execution_count": 7,
   "metadata": {},
   "outputs": [],
   "source": [
    "exposure = datamodels.SpecModel('output/data_k2-141_superbiasstep_corrected_1_assignwcsstep.fits')"
   ]
  },
  {
   "cell_type": "code",
   "execution_count": 51,
   "metadata": {},
   "outputs": [
    {
     "name": "stdout",
     "output_type": "stream",
     "text": [
      "350.9165458333333 -1.189291666666667 0.0\n"
     ]
    }
   ],
   "source": [
    "column, row, order = 2047, 255, 2\n",
    "ra, dec, wavelength = exposure.meta.wcs(column, row, order)\n",
    "print(ra,dec,wavelength)"
   ]
  },
  {
   "cell_type": "code",
   "execution_count": null,
   "metadata": {},
   "outputs": [],
   "source": []
  }
 ],
 "metadata": {
  "kernelspec": {
   "display_name": "Python 3",
   "language": "python",
   "name": "python3"
  },
  "language_info": {
   "codemirror_mode": {
    "name": "ipython",
    "version": 3
   },
   "file_extension": ".py",
   "mimetype": "text/x-python",
   "name": "python",
   "nbconvert_exporter": "python",
   "pygments_lexer": "ipython3",
   "version": "3.7.3"
  }
 },
 "nbformat": 4,
 "nbformat_minor": 4
}
