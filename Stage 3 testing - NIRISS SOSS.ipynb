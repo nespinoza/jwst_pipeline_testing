{
 "cells": [
  {
   "cell_type": "markdown",
   "metadata": {},
   "source": [
    "## JWST Pipeline Validation Testing Notebook: NIRISS/SOSS Time Series Observation, pt. 3\n",
    "**Instruments affected**: NIRISS\n",
    "\n",
    "### Table of Contents\n",
    "1. [Imports](#Imports_ID)\n",
    "\n",
    "2. [Introduction](#intro)\n",
    "\n",
    "3. [The `outlier_detection` step](#outlier_detection)\n",
    "\n",
    "### <a id=#Imports_ID>Imports</a>\n",
    "\n",
    "Here are the lirbaries being imported here and why:\n",
    "\n",
    "- `numpy` for numerical calculations.\n",
    "- `matplotlib.pyplot` for plots.\n",
    "- `astropy.io.fits` for importing fits files.\n",
    "- `jwst.pipeline.calwebb_tso3` for using the CalWebb TSO3 stage."
   ]
  },
  {
   "cell_type": "code",
   "execution_count": 1,
   "metadata": {},
   "outputs": [],
   "source": [
    "import numpy as np\n",
    "import matplotlib.pyplot as plt\n",
    "from matplotlib.patches import Rectangle\n",
    "from scipy.signal import medfilt\n",
    "import os\n",
    "\n",
    "from astropy.io import fits\n",
    "from jwst.pipeline import calwebb_tso3\n",
    "from jwst import datamodels"
   ]
  },
  {
   "cell_type": "markdown",
   "metadata": {},
   "source": [
    "Version of the pipeline we are testing:"
   ]
  },
  {
   "cell_type": "code",
   "execution_count": 2,
   "metadata": {},
   "outputs": [
    {
     "name": "stdout",
     "output_type": "stream",
     "text": [
      "0.16.1\n"
     ]
    }
   ],
   "source": [
    "import jwst\n",
    "print(jwst.__version__)"
   ]
  },
  {
   "cell_type": "markdown",
   "metadata": {},
   "source": [
    "## <a id='intro'> Introduction </a>\n",
    "\n",
    "In this notebook we'll be testing that the Stage 3 of the CalWebb TSO pipeline works as intended as a whole. We'll stop after every step to quickly check that the results make sense. The whole set of steps ran by TSOs by this third Stage of the CalWebb Pipeline can be found [<a href=\"https://jwst-pipeline.readthedocs.io/en/latest/jwst/pipeline/calwebb_tso3.html\">here</a>]. In what follows, we'll have one section associated to each step, calibrating the data sequentially and exploring the outputs accordingly.\n",
    "\n",
    "## <a id='outlier_detection'> The `outlier_detection` step </a>\n",
    "\n",
    "We first test and validate the `outlier_detection` step. This step flags outliers using the time-series of each pixel. It takes the median of each pixel, and then flags pixels which are x-sigma away from this median, using the errors already estimated from previous steps on the flux of each pixel. Let's first make sure our input dataset (the `sourcetypestep`) has all that we need:"
   ]
  },
  {
   "cell_type": "code",
   "execution_count": 4,
   "metadata": {},
   "outputs": [],
   "source": [
    "hdul = fits.open('output/data_k2-141_superbiasstep_corrected_1_sourcetypestep.fits')"
   ]
  },
  {
   "cell_type": "code",
   "execution_count": 5,
   "metadata": {},
   "outputs": [
    {
     "name": "stdout",
     "output_type": "stream",
     "text": [
      "Filename: output/data_k2-141_superbiasstep_corrected_1_sourcetypestep.fits\n",
      "No.    Name      Ver    Type      Cards   Dimensions   Format\n",
      "  0  PRIMARY       1 PrimaryHDU     179   ()      \n",
      "  1  SCI           1 ImageHDU        17   (2048, 256, 308)   float32   \n",
      "  2  ERR           1 ImageHDU        11   (2048, 256, 308)   float32   \n",
      "  3  DQ            1 ImageHDU        12   (2048, 256, 308)   int32 (rescales to uint32)   \n",
      "  4  INT_TIMES     1 BinTableHDU     24   0R x 7C   [J, D, D, D, D, D, D]   \n",
      "  5  VAR_POISSON    1 ImageHDU        10   (2048, 256, 308)   float32   \n",
      "  6  VAR_RNOISE    1 ImageHDU        10   (2048, 256, 308)   float32   \n",
      "  7  VAR_FLAT      1 ImageHDU        10   (2048, 256, 308)   float32   \n",
      "  8  ASDF          1 BinTableHDU     11   1R x 1C   [50440365B]   \n"
     ]
    }
   ],
   "source": [
    "hdul.info()"
   ]
  },
  {
   "cell_type": "code",
   "execution_count": 6,
   "metadata": {},
   "outputs": [
    {
     "data": {
      "text/plain": [
       "SIMPLE  =                    T / conforms to FITS standard                      \n",
       "BITPIX  =                    8 / array data type                                \n",
       "NAXIS   =                    0 / number of array dimensions                     \n",
       "EXTEND  =                    T                                                  \n",
       "DATE    = '2020-07-31T00:06:50.067' / UTC date file created                     \n",
       "FILENAME= 'data_k2-141_superbiasstep_corrected_1_sourcetypestep.fits' / Name of \n",
       "CAL_VER = '0.16.1  '           / Calibration software version number            \n",
       "CAL_VCS = 'RELEASE '           / Calibration software version control sys number\n",
       "DATAMODL= 'CubeModel'          / Type of data model                             \n",
       "TELESCOP= 'JWST    '           / Telescope used to acquire the data             \n",
       "                                                                                \n",
       "        Observation identifiers                                                 \n",
       "                                                                                \n",
       "DATE-OBS= '2022-12-06'         / [yyyy-mm-dd] UTC date at start of exposure     \n",
       "TIME-OBS= '23:14:44.870'       / [hh:mm:ss.sss] UTC time at start of exposure   \n",
       "                                                                                \n",
       "        Target information                                                      \n",
       "                                                                                \n",
       "TARG_RA =    350.9165458333333 / Target RA at mid time of exposure              \n",
       "TARG_DEC=   -1.189291666666667 / Target Dec at mid time of exposure             \n",
       "SRCTYAPT= 'POINT   '           / Source type from APT (point/extended)          \n",
       "                                                                                \n",
       "        Instrument configuration information                                    \n",
       "                                                                                \n",
       "INSTRUME= 'NIRISS  '           / Instrument used to acquire the data            \n",
       "DETECTOR= 'NIS     '           / Name of detector used to acquire the data      \n",
       "FILTER  = 'CLEAR   '           / Name of the filter element used                \n",
       "PUPIL   = 'GR700XD '           / Name of the pupil element used                 \n",
       "                                                                                \n",
       "        Exposure parameters                                                     \n",
       "                                                                                \n",
       "EXP_TYPE= 'NIS_SOSS'           / Type of data in the exposure                   \n",
       "READPATT= 'NISRAPID'           / Readout pattern                                \n",
       "NINTS   =                  308 / Number of integrations in exposure             \n",
       "NGROUPS =                    3 / Number of groups in integration                \n",
       "NFRAMES =                    1 / Number of frames per group                     \n",
       "GROUPGAP=                    0 / Number of frames dropped between groups        \n",
       "TFRAME  =                5.491 / [s] Time between frames                        \n",
       "TGROUP  =                5.491 / [s] Time between groups                        \n",
       "DURATION=    3379.710500000012 / [s] Total duration of exposure                 \n",
       "NRSTSTRT=                    1 / Number of resets at start of exposure          \n",
       "NRESETS =                    1 / Number of resets between integrations          \n",
       "                                                                                \n",
       "        Subarray parameters                                                     \n",
       "                                                                                \n",
       "SUBARRAY= 'SUBSTRIP256'        / Subarray used                                  \n",
       "SUBSTRT1=                    1 / Starting pixel in axis 1 direction             \n",
       "SUBSTRT2=                 1793 / Starting pixel in axis 2 direction             \n",
       "SUBSIZE1=                 2048 / Number of pixels in axis 1 direction           \n",
       "SUBSIZE2=                  256 / Number of pixels in axis 2 direction           \n",
       "FASTAXIS=                   -2 / Fast readout axis direction                    \n",
       "SLOWAXIS=                   -1 / Slow readout axis direction                    \n",
       "                                                                                \n",
       "        Reference file information                                              \n",
       "                                                                                \n",
       "                                                                                \n",
       "        CRDS parameters                                                         \n",
       "                                                                                \n",
       "CRDS_VER= '7.4.1.3 '           / Version of CRDS file selection software used   \n",
       "CRDS_CTX= 'jwst_0630.pmap'     / CRDS context (.pmap) used to select ref files  \n",
       "                                                                                \n",
       "        Nirspec Camera reference file information                               \n",
       "                                                                                \n",
       "R_CAMERA= 'N/A     '           / Nirspec Camera reference file name             \n",
       "                                                                                \n",
       "        Nirspec Collimator reference file information                           \n",
       "                                                                                \n",
       "R_COLLIM= 'N/A     '           / Nirspec Collimator reference file name         \n",
       "                                                                                \n",
       "        Dark reference file information                                         \n",
       "                                                                                \n",
       "R_DARK  = 'crds://jwst_niriss_dark_0114.fits' / Dark reference file name        \n",
       "                                                                                \n",
       "        Disperser reference file information                                    \n",
       "                                                                                \n",
       "R_DISPER= 'N/A     '           / Disperser reference file name                  \n",
       "                                                                                \n",
       "        Distortion reference file information                                   \n",
       "                                                                                \n",
       "R_DISTOR= 'N/A     '           / Distortion reference file name                 \n",
       "                                                                                \n",
       "        Filter Offset reference file information                                \n",
       "                                                                                \n",
       "R_FILOFF= 'N/A     '           / Filter Offset reference file name              \n",
       "                                                                                \n",
       "        Flat reference file information                                         \n",
       "                                                                                \n",
       "R_FLAT  = 'crds://jwst_niriss_flat_0181.fits' / Flat reference file name        \n",
       "                                                                                \n",
       "        DFlat reference file information                                        \n",
       "                                                                                \n",
       "R_DFLAT = 'N/A     '           / DFlat reference file name                      \n",
       "                                                                                \n",
       "        FFlat reference file information                                        \n",
       "                                                                                \n",
       "R_FFLAT = 'N/A     '           / FFlat reference file name                      \n",
       "                                                                                \n",
       "        SFlat reference file information                                        \n",
       "                                                                                \n",
       "R_SFLAT = 'N/A     '           / SFlat reference file name                      \n",
       "                                                                                \n",
       "        Nirspec FORE Model reference file information                           \n",
       "                                                                                \n",
       "R_FORE  = 'N/A     '           / Nirspec FORE Model reference file name         \n",
       "                                                                                \n",
       "        Nirspec FPA Model reference file information                            \n",
       "                                                                                \n",
       "R_FPA   = 'N/A     '           / Nirspec FPA Model reference file name          \n",
       "                                                                                \n",
       "        Gain reference file information                                         \n",
       "                                                                                \n",
       "R_GAIN  = 'crds://jwst_niriss_gain_0005.fits' / Gain reference file name        \n",
       "                                                                                \n",
       "        IFU fore reference file information                                     \n",
       "                                                                                \n",
       "R_IFUFOR= 'N/A     '           / ifufore reference file name                    \n",
       "                                                                                \n",
       "        IFU post reference file information                                     \n",
       "                                                                                \n",
       "R_IFUPOS= 'N/A     '           / ifupost reference file name                    \n",
       "                                                                                \n",
       "        IFU slicer reference file information                                   \n",
       "                                                                                \n",
       "R_IFUSLI= 'N/A     '           / ifuslicer reference file name                  \n",
       "                                                                                \n",
       "        Linearity reference file information                                    \n",
       "                                                                                \n",
       "R_LINEAR= 'crds://jwst_niriss_linearity_0011.fits' / Linearity reference file na\n",
       "                                                                                \n",
       "        Mask reference file information                                         \n",
       "                                                                                \n",
       "R_MASK  = 'crds://jwst_niriss_mask_0013.fits' / Mask reference file name        \n",
       "                                                                                \n",
       "        Nirspec MSA Model reference file information                            \n",
       "                                                                                \n",
       "R_MSA   = 'N/A     '           / Nirspec MSA Model reference file name          \n",
       "                                                                                \n",
       "        Nirspec OTE Model reference file information                            \n",
       "                                                                                \n",
       "R_OTE   = 'N/A     '           / Nirspec OTE Model reference file name          \n",
       "                                                                                \n",
       "        Read noise reference file information                                   \n",
       "                                                                                \n",
       "R_READNO= 'crds://jwst_niriss_readnoise_0004.fits' / Read noise reference file n\n",
       "                                                                                \n",
       "        Regions reference file information                                      \n",
       "                                                                                \n",
       "R_REGION= 'N/A     '           / Regions reference file name                    \n",
       "                                                                                \n",
       "        Saturation reference file information                                   \n",
       "                                                                                \n",
       "R_SATURA= 'crds://jwst_niriss_saturation_0010.fits' / Saturation reference file \n",
       "                                                                                \n",
       "        Spectral distortion reference file information                          \n",
       "                                                                                \n",
       "R_SPCWCS= 'crds://jwst_niriss_specwcs_0002.asdf' / Spectral distortion reference\n",
       "                                                                                \n",
       "        Superbias reference file information                                    \n",
       "                                                                                \n",
       "R_SUPERB= 'crds://jwst_niriss_superbias_0120.fits' / Superbias reference file na\n",
       "                                                                                \n",
       "        Wavelength Range reference file information                             \n",
       "                                                                                \n",
       "R_WAVRAN= 'N/A     '           / Wavelength Range reference file name           \n",
       "                                                                                \n",
       "        Calibration step information                                            \n",
       "                                                                                \n",
       "S_WCS   = 'COMPLETE'           / Assign World Coordinate System                 \n",
       "S_DARK  = 'COMPLETE'           / Dark Subtraction                               \n",
       "S_DQINIT= 'COMPLETE'           / Data Quality Initialization                    \n",
       "S_FLAT  = 'COMPLETE'           / Flat Field Correction                          \n",
       "S_GRPSCL= 'SKIPPED '           / Group Scale Correction                         \n",
       "S_JUMP  = 'COMPLETE'           / Jump Detection                                 \n",
       "S_LINEAR= 'COMPLETE'           / Linearity Correction                           \n",
       "S_RAMP  = 'COMPLETE'           / Ramp Fitting                                   \n",
       "S_REFPIX= 'COMPLETE'           / Reference Pixel Correction                     \n",
       "S_SATURA= 'COMPLETE'           / Saturation Checking                            \n",
       "S_SRCTYP= 'COMPLETE'           / Source Type Determination                      \n",
       "S_SUPERB= 'COMPLETE'           / Superbias Subtraction                          "
      ]
     },
     "execution_count": 6,
     "metadata": {},
     "output_type": "execute_result"
    }
   ],
   "source": [
    "hdul['PRIMARY'].header"
   ]
  },
  {
   "cell_type": "code",
   "execution_count": 7,
   "metadata": {},
   "outputs": [],
   "source": [
    "input_models = datamodels.CubeModel(hdul)"
   ]
  },
  {
   "cell_type": "code",
   "execution_count": 9,
   "metadata": {},
   "outputs": [
    {
     "data": {
      "text/plain": [
       "('NIS_SOSS', None)"
      ]
     },
     "execution_count": 9,
     "metadata": {},
     "output_type": "execute_result"
    }
   ],
   "source": [
    "input_models.meta.exposure.type,input_models.meta.exposure.exposure_time"
   ]
  },
  {
   "cell_type": "markdown",
   "metadata": {},
   "source": [
    "So we are missing the `exposure_time`. This is needed for the `outlier_detection_step` call, as it is used internally. Let's add it manually, just copying the `DURATION` keyword value to the `EFFEXPTM` which is the one that populates the `exposure_time`. This is not exactly correct, but it will do the trick here:"
   ]
  },
  {
   "cell_type": "code",
   "execution_count": 11,
   "metadata": {},
   "outputs": [],
   "source": [
    "hdul[0].header.append(('EFFEXPTM', hdul['PRIMARY'].header['DURATION'], '[s] Effective duration of exposure'))"
   ]
  },
  {
   "cell_type": "code",
   "execution_count": 12,
   "metadata": {},
   "outputs": [
    {
     "name": "stdout",
     "output_type": "stream",
     "text": [
      "3379.710500000012\n"
     ]
    }
   ],
   "source": [
    "print(hdul['PRIMARY'].header['EFFEXPTM'])"
   ]
  },
  {
   "cell_type": "markdown",
   "metadata": {},
   "source": [
    "All right, now let's save this modified output, and rerun the outlier detection step:"
   ]
  },
  {
   "cell_type": "code",
   "execution_count": 14,
   "metadata": {},
   "outputs": [],
   "source": [
    "hdul.writeto('output/mod_sourcetypestep.fits')"
   ]
  },
  {
   "cell_type": "code",
   "execution_count": 94,
   "metadata": {},
   "outputs": [
    {
     "name": "stderr",
     "output_type": "stream",
     "text": [
      "2020-08-12 14:38:38,721 - CRDS - ERROR -  Error determining best reference for 'pars-outlierdetectionstep'  =   Unknown reference type 'pars-outlierdetectionstep'\n",
      "2020-08-12 14:38:38,725 - stpipe.OutlierDetectionStep - INFO - OutlierDetectionStep instance created.\n",
      "2020-08-12 14:38:39,227 - stpipe.OutlierDetectionStep - INFO - Step OutlierDetectionStep running with args ('output/mod_sourcetypestep.fits',).\n",
      "2020-08-12 14:38:39,229 - stpipe.OutlierDetectionStep - INFO - Step OutlierDetectionStep parameters are: {'pre_hooks': [], 'post_hooks': [], 'output_file': None, 'output_dir': 'output', 'output_ext': '.fits', 'output_use_model': False, 'output_use_index': True, 'save_results': True, 'skip': False, 'suffix': None, 'search_output_file': False, 'input_dir': '', 'weight_type': 'exptime', 'pixfrac': 1.0, 'kernel': 'square', 'fillval': 'INDEF', 'nlow': 0, 'nhigh': 0, 'maskpt': 0.7, 'grow': 1, 'snr': '4.0 3.0', 'scale': '0.5 0.4', 'backg': 0.0, 'save_intermediate_results': True, 'resample_data': False, 'good_bits': '~DO_NOT_USE', 'scale_detection': False}\n",
      "2020-08-12 14:38:42,356 - stpipe.OutlierDetectionStep - INFO - Performing outlier detection with 308 inputs\n",
      "2020-08-12 14:39:39,120 - stpipe.OutlierDetectionStep - INFO - Writing out MEDIAN image to: output/mod_median.fits\n",
      "2020-08-12 14:39:52,234 - stpipe.OutlierDetectionStep - WARNING - /Users/nespinoza/anaconda3/lib/python3.7/site-packages/astropy/io/fits/card.py:267: VerifyWarning: Keyword name 'GEFFEXPTM' is greater than 8 characters or contains characters not allowed by the FITS standard; a HIERARCH card will be created.\n",
      "  keyword), VerifyWarning)\n",
      "\n",
      "2020-08-12 14:40:05,048 - stpipe.OutlierDetectionStep - INFO - Saved model in output/mod_outlierdetectionstep.fits\n",
      "2020-08-12 14:40:05,050 - stpipe.OutlierDetectionStep - INFO - Step OutlierDetectionStep done\n"
     ]
    },
    {
     "data": {
      "text/plain": [
       "<CubeModel(308, 256, 2048) from mod_outlierdetectionstep.fits>"
      ]
     },
     "execution_count": 94,
     "metadata": {},
     "output_type": "execute_result"
    }
   ],
   "source": [
    "calwebb_tso3.outlier_detection_step.OutlierDetectionStep.call('output/mod_sourcetypestep.fits', output_dir='output',save_results=True, save_intermediate_results=True, resample_data=False)"
   ]
  },
  {
   "cell_type": "markdown",
   "metadata": {},
   "source": [
    "All right! Let's check what this did:"
   ]
  },
  {
   "cell_type": "code",
   "execution_count": 95,
   "metadata": {},
   "outputs": [
    {
     "name": "stdout",
     "output_type": "stream",
     "text": [
      "Filename: output/mod_outlierdetectionstep.fits\n",
      "No.    Name      Ver    Type      Cards   Dimensions   Format\n",
      "  0  PRIMARY       1 PrimaryHDU     182   ()      \n",
      "  1  SCI           1 ImageHDU        17   (2048, 256, 308)   float32   \n",
      "  2  ERR           1 ImageHDU        11   (2048, 256, 308)   float32   \n",
      "  3  DQ            1 ImageHDU        12   (2048, 256, 308)   int32 (rescales to uint32)   \n",
      "  4  INT_TIMES     1 BinTableHDU     24   0R x 7C   [J, D, D, D, D, D, D]   \n",
      "  5  VAR_POISSON    1 ImageHDU        10   (2048, 256, 308)   float32   \n",
      "  6  VAR_RNOISE    1 ImageHDU        10   (2048, 256, 308)   float32   \n",
      "  7  VAR_FLAT      1 ImageHDU        10   (2048, 256, 308)   float32   \n",
      "  8  ASDF          1 BinTableHDU     11   1R x 1C   [50440421B]   \n",
      "None\n"
     ]
    }
   ],
   "source": [
    "hdul_outlier = fits.open('output/mod_outlierdetectionstep.fits')\n",
    "print(hdul_outlier.info())"
   ]
  },
  {
   "cell_type": "markdown",
   "metadata": {},
   "source": [
    "In theory this shouldn't do anything to the data, but it should do something to the `DQ`. Let's substract both:"
   ]
  },
  {
   "cell_type": "code",
   "execution_count": 96,
   "metadata": {},
   "outputs": [
    {
     "data": {
      "image/png": "[encoded data removed]",
      "text/plain": [
       "<Figure size 1440x360 with 1 Axes>"
      ]
     },
     "metadata": {
      "needs_background": "light"
     },
     "output_type": "display_data"
    },
    {
     "data": {
      "image/png": "[encoded data removed]",
      "text/plain": [
       "<Figure size 1440x360 with 1 Axes>"
      ]
     },
     "metadata": {
      "needs_background": "light"
     },
     "output_type": "display_data"
    }
   ],
   "source": [
    "plt.figure(figsize=(20,5))\n",
    "im = plt.imshow(hdul['SCI'].data[0,:,:] - hdul_outlier['SCI'].data[0,:,:])\n",
    "im.set_clim(-10,10)\n",
    "plt.figure(figsize=(20,5))\n",
    "plt.imshow(hdul['DQ'].data[0,:,:] - hdul_outlier['DQ'].data[0,:,:])\n",
    "im.set_clim(-10,10)"
   ]
  },
  {
   "cell_type": "markdown",
   "metadata": {},
   "source": [
    "All right. So some outliers detected, nothing done to the images. Good --- does this apply for all integrations?"
   ]
  },
  {
   "cell_type": "code",
   "execution_count": 97,
   "metadata": {},
   "outputs": [
    {
     "name": "stdout",
     "output_type": "stream",
     "text": [
      "[]\n",
      "[  0   0   0 ... 307 307 307]\n"
     ]
    }
   ],
   "source": [
    "data_diff = hdul['SCI'].data - hdul_outlier['SCI'].data\n",
    "print(np.where(data_diff != 0)[0])\n",
    "\n",
    "data_diff = hdul['DQ'].data - hdul_outlier['DQ'].data\n",
    "print(np.where(data_diff != 0)[0])"
   ]
  },
  {
   "cell_type": "markdown",
   "metadata": {},
   "source": [
    "Yup. Nothing done to the data, but some outliers *where* detected. Let's explore the time series of a couple of them. Let's cut through column 1000:"
   ]
  },
  {
   "cell_type": "code",
   "execution_count": 98,
   "metadata": {},
   "outputs": [
    {
     "data": {
      "text/plain": [
       "(95, 105)"
      ]
     },
     "execution_count": 98,
     "metadata": {},
     "output_type": "execute_result"
    },
    {
     "data": {
      "image/png": "[encoded data removed]",
      "text/plain": [
       "<Figure size 432x288 with 1 Axes>"
      ]
     },
     "metadata": {
      "needs_background": "light"
     },
     "output_type": "display_data"
    }
   ],
   "source": [
    "data_diff = hdul['DQ'].data[0,:,:] - hdul_outlier['DQ'].data[0,:,:]\n",
    "plt.plot(data_diff[:,1000])\n",
    "plt.xlim(95,105)"
   ]
  },
  {
   "cell_type": "markdown",
   "metadata": {},
   "source": [
    "Okay, pixels 101 and 102 were flagged by the `outlier_detection` step. Let's plot the time-series of pixel 101, indicating when that pixel was flagged as an outlier:"
   ]
  },
  {
   "cell_type": "code",
   "execution_count": 122,
   "metadata": {},
   "outputs": [
    {
     "data": {
      "text/plain": [
       "(42, 65)"
      ]
     },
     "execution_count": 122,
     "metadata": {},
     "output_type": "execute_result"
    },
    {
     "data": {
      "image/png": "[encoded data removed]",
      "text/plain": [
       "<Figure size 1080x216 with 1 Axes>"
      ]
     },
     "metadata": {
      "needs_background": "light"
     },
     "output_type": "display_data"
    }
   ],
   "source": [
    "def sigma(x):\n",
    "    return np.sqrt(np.var(x))\n",
    "    \n",
    "def get_mad_sigma(x):\n",
    "    \"\"\"\n",
    "    Estimate the robust version of the standard deviation (sigma) using the Median Absolute Deviation (MAD).\n",
    "    See: https://en.wikipedia.org/wiki/Median_absolute_deviation\n",
    "    \"\"\"\n",
    "    return np.median(np.abs(x-np.median(x)))*1.4826\n",
    "\n",
    "nsigma = 3\n",
    "\n",
    "plt.figure(figsize=(15,3))\n",
    "# Create array for integration numbering:\n",
    "integrations = np.arange(hdul['SCI'].data.shape[0])\n",
    "# Identify changes between initial DQ product and outlier DQ product for all integrations of this pixel. \n",
    "# Select those that changed, which are the ones the outlier detection algorithm identified as outliers:\n",
    "DQ_diff = hdul['DQ'].data[:,101,1000] - hdul_outlier['DQ'].data[:,101,1000]\n",
    "idx = np.where(DQ_diff!=0)[0]\n",
    "\n",
    "# Calculate median, sigma, and MAD-estimated sigma:\n",
    "median = np.median(hdul['SCI'].data[:,101,1000])\n",
    "s = sigma(hdul['SCI'].data[:,101,1000])\n",
    "mad_s = get_mad_sigma(hdul['SCI'].data[:,101,1000])\n",
    "\n",
    "# Plot:\n",
    "plt.errorbar(integrations, hdul['SCI'].data[:,101,1000], yerr=hdul['ERR'].data[:,101,1000],fmt='.',\\\n",
    "             color='blue',ecolor='blue',zorder=1,label='Data')\n",
    "\n",
    "plt.plot(integrations,np.ones(len(integrations))*median,lw=5,color='black',zorder=2,label='Median counts')\n",
    "\n",
    "\n",
    "plt.fill_between(integrations, np.ones(len(integrations))*(median-nsigma*s), \\\n",
    "                 np.ones(len(integrations))*(median+nsigma*s),color='orange',alpha=0.5,label=f'{nsigma}-$\\sigma$ around median') \n",
    "\n",
    "plt.fill_between(integrations, np.ones(len(integrations))*(median-nsigma*mad_s), \\\n",
    "                 np.ones(len(integrations))*(median+nsigma*mad_s),color='red',alpha=0.5,label=f'(MAD) {nsigma}-$\\sigma$ around median') \n",
    "\n",
    "plt.errorbar(integrations[idx],hdul['SCI'].data[idx,101,1000],yerr=hdul['ERR'].data[idx,101,1000],\\\n",
    "             fmt='o',mec='black',mfc='white',ecolor='black',ms=10,zorder=3,label='Detected outliers')\n",
    "plt.xlabel('Integration number')\n",
    "plt.ylabel('Counts/s')\n",
    "plt.legend(ncol=5)\n",
    "plt.xlim([-3,310])\n",
    "plt.ylim([42,65])"
   ]
  },
  {
   "cell_type": "markdown",
   "metadata": {},
   "source": [
    "Hmmm...why are those datapoints being marked as outliers? Let's first check the median image outputed by the pipeline:"
   ]
  },
  {
   "cell_type": "code",
   "execution_count": 86,
   "metadata": {},
   "outputs": [
    {
     "name": "stdout",
     "output_type": "stream",
     "text": [
      "Filename: output/mod_median.fits\n",
      "No.    Name      Ver    Type      Cards   Dimensions   Format\n",
      "  0  PRIMARY       1 PrimaryHDU     180   ()      \n",
      "  1  SCI           1 ImageHDU        16   (2048, 256)   float32   \n",
      "  2  ERR           1 ImageHDU         7   ()      \n",
      "  3  ASDF          1 BinTableHDU     11   1R x 1C   [50439225B]   \n",
      "None\n"
     ]
    }
   ],
   "source": [
    "hdul_median = fits.open('output/mod_median.fits')\n",
    "print(hdul_median.info())"
   ]
  },
  {
   "cell_type": "markdown",
   "metadata": {},
   "source": [
    "Let's compare it with a median image obtained via numpy:"
   ]
  },
  {
   "cell_type": "code",
   "execution_count": 87,
   "metadata": {},
   "outputs": [
    {
     "name": "stdout",
     "output_type": "stream",
     "text": [
      "(256, 2048)\n"
     ]
    }
   ],
   "source": [
    "median_image = np.median(hdul['SCI'].data,axis=0)\n",
    "print(median_image.shape)"
   ]
  },
  {
   "cell_type": "code",
   "execution_count": 90,
   "metadata": {},
   "outputs": [],
   "source": [
    "delta_median = hdul_median['SCI'].data - median_image"
   ]
  },
  {
   "cell_type": "code",
   "execution_count": 93,
   "metadata": {},
   "outputs": [
    {
     "data": {
      "image/png": "[encoded data removed]",
      "text/plain": [
       "<Figure size 1440x360 with 1 Axes>"
      ]
     },
     "metadata": {
      "needs_background": "light"
     },
     "output_type": "display_data"
    }
   ],
   "source": [
    "plt.figure(figsize=(20,5))\n",
    "im = plt.imshow(delta_median)\n",
    "im.set_clim(-10,10)"
   ]
  },
  {
   "cell_type": "markdown",
   "metadata": {},
   "source": [
    "Indeed, they are exactly the same."
   ]
  }
 ],
 "metadata": {
  "kernelspec": {
   "display_name": "Python 3",
   "language": "python",
   "name": "python3"
  },
  "language_info": {
   "codemirror_mode": {
    "name": "ipython",
    "version": 3
   },
   "file_extension": ".py",
   "mimetype": "text/x-python",
   "name": "python",
   "nbconvert_exporter": "python",
   "pygments_lexer": "ipython3",
   "version": "3.7.3"
  }
 },
 "nbformat": 4,
 "nbformat_minor": 4
}
